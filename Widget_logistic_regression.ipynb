{
 "cells": [
  {
   "cell_type": "code",
   "execution_count": 1,
   "metadata": {},
   "outputs": [],
   "source": [
    "import pandas as pd\n",
    "df = pd.read_csv('covid_data_22-09-2021_2-full.csv')"
   ]
  },
  {
   "cell_type": "code",
   "execution_count": 2,
   "metadata": {},
   "outputs": [],
   "source": [
    "high =  df[(df['proportion infected'] > 4000)]\n",
    "low = df[(df['proportion infected'] < 4000)]"
   ]
  },
  {
   "cell_type": "code",
   "execution_count": 3,
   "metadata": {},
   "outputs": [],
   "source": [
    "categories = list()\n",
    "for i in df['proportion infected'].values:\n",
    "    if i > 4000:\n",
    "        categories.append('high')\n",
    "    else:\n",
    "        categories.append('low')\n",
    "    \n",
    "df.insert(4, \"category\", categories, True)"
   ]
  },
  {
   "cell_type": "code",
   "execution_count": 4,
   "metadata": {},
   "outputs": [],
   "source": [
    "from sklearn.preprocessing import normalize\n",
    "data = df[['GDP', 'Population Density', 'Literacy', 'Employment', 'Population 65 +', 'Foreigners']]\n",
    "labels = df['category']"
   ]
  },
  {
   "cell_type": "code",
   "execution_count": 5,
   "metadata": {},
   "outputs": [],
   "source": [
    "train_set_data = data[:70]\n",
    "train_set_labels = labels[:70]\n",
    "test_set_data = data[70:]\n",
    "test_set_labels = labels[70:]"
   ]
  },
  {
   "cell_type": "code",
   "execution_count": 6,
   "metadata": {},
   "outputs": [
    {
     "data": {
      "text/plain": [
       "LogisticRegression(multi_class='multinomial')"
      ]
     },
     "execution_count": 6,
     "metadata": {},
     "output_type": "execute_result"
    }
   ],
   "source": [
    "from sklearn.linear_model import LogisticRegression\n",
    "X, y = train_set_data, train_set_labels\n",
    "model = LogisticRegression(multi_class = 'multinomial')\n",
    "model.fit(X, y)"
   ]
  },
  {
   "cell_type": "code",
   "execution_count": 7,
   "metadata": {},
   "outputs": [],
   "source": [
    "test_set_labels_new = model.predict(test_set_data)\n",
    "count = 0\n",
    "countries = df['Country'].values\n",
    "test_set_labels = test_set_labels.values\n",
    "for i in range(len(test_set_data)):\n",
    "    #print(\"X=%s, Predicted=%s, Reel=%s\" % (countries[i+70], test_set_labels_new[i], test_set_labels[i]))\n",
    "    if test_set_labels_new[i] != test_set_labels[i]:\n",
    "        count += 1"
   ]
  },
  {
   "cell_type": "markdown",
   "metadata": {},
   "source": [
    "# How well would your country deal with a virus like Covid-19?\n",
    "\n",
    "How well would your country deal with a virus like Covid-19 if you look at a few features that are specific for your country? Change the features in the widget below to find out!\n",
    "\n",
    "The barrier between high and low infection rate is 4,000 out of 100,000 people and the features used are explained in the documentation below:"
   ]
  },
  {
   "cell_type": "markdown",
   "metadata": {},
   "source": [
    "GDP = Gross Domestic Product in USD Billions"
   ]
  },
  {
   "cell_type": "markdown",
   "metadata": {},
   "source": [
    "Density = Population density, amount of people per square kilometer"
   ]
  },
  {
   "cell_type": "markdown",
   "metadata": {},
   "source": [
    "Literacy = percentage of people 15 and over who can read and write"
   ]
  },
  {
   "cell_type": "markdown",
   "metadata": {},
   "source": [
    "Employment = percentage of economically active people who are also employed in a county"
   ]
  },
  {
   "cell_type": "markdown",
   "metadata": {},
   "source": [
    "Over65 = percentage of the population that is 65 years old and older"
   ]
  },
  {
   "cell_type": "markdown",
   "metadata": {},
   "source": [
    "Non_natives = percentage of the population that is comprised of foreigners"
   ]
  },
  {
   "cell_type": "code",
   "execution_count": 8,
   "metadata": {},
   "outputs": [
    {
     "data": {
      "application/vnd.jupyter.widget-view+json": {
       "model_id": "453fc6d3b7f64c67bb2cf960938dd62f",
       "version_major": 2,
       "version_minor": 0
      },
      "text/plain": [
       "interactive(children=(IntSlider(value=10500, description='GDP', max=21000), IntSlider(value=626, description='…"
      ]
     },
     "metadata": {},
     "output_type": "display_data"
    },
    {
     "data": {
      "text/plain": [
       "<function __main__.machine(GDP, Density, Literacy, Employment, Over65, Non_natives)>"
      ]
     },
     "execution_count": 8,
     "metadata": {},
     "output_type": "execute_result"
    }
   ],
   "source": [
    "from ipywidgets import interact\n",
    "import matplotlib.pyplot as plt\n",
    "import matplotlib.image as mpimg\n",
    "\n",
    "\n",
    "def machine(GDP, Density, Literacy, Employment, Over65, Non_natives):\n",
    "    if (model.predict([[GDP, Density, Literacy, Employment, Over65, Non_natives]])[0]) == 'low':\n",
    "        print('Low infection rate')\n",
    "        img = mpimg.imread('green.jpg')\n",
    "        imgplot = plt.imshow(img)\n",
    "        imgplot.axes.get_xaxis().set_visible(False)\n",
    "        imgplot.axes.get_yaxis().set_visible(False)\n",
    "        plt.show()\n",
    "    else:\n",
    "        print('High infection rate')\n",
    "        img = mpimg.imread('red.jpg')\n",
    "        imgplot = plt.imshow(img)\n",
    "        imgplot.axes.get_xaxis().set_visible(False)\n",
    "        imgplot.axes.get_yaxis().set_visible(False)\n",
    "        plt.show()\n",
    "\n",
    "interact(machine, GDP=(0, 21000, 1), Density = (0, 1252, 1), Literacy = (0, 1, 0.01), Employment = (0, 1, 0.01), Over65 =  (0, 1, 0.01), Non_natives =  (0, 1, 0.01))"
   ]
  },
  {
   "cell_type": "markdown",
   "metadata": {},
   "source": [
    "Pictures used in the widget: https://www.shutterstock.com/nl/image-vector/thumb-down-flat-icon-vector-illustration-1557854771"
   ]
  },
  {
   "cell_type": "code",
   "execution_count": null,
   "metadata": {},
   "outputs": [],
   "source": []
  }
 ],
 "metadata": {
  "kernelspec": {
   "display_name": "Python 3",
   "language": "python",
   "name": "python3"
  },
  "language_info": {
   "codemirror_mode": {
    "name": "ipython",
    "version": 3
   },
   "file_extension": ".py",
   "mimetype": "text/x-python",
   "name": "python",
   "nbconvert_exporter": "python",
   "pygments_lexer": "ipython3",
   "version": "3.7.6"
  }
 },
 "nbformat": 4,
 "nbformat_minor": 5
}
